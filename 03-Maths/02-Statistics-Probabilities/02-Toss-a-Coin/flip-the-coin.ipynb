{
 "cells": [
  {
   "cell_type": "code",
   "execution_count": 1,
   "metadata": {},
   "outputs": [],
   "source": [
    "import matplotlib.pyplot as plt\n",
    "import numpy as np\n",
    "from matplotlib import colors\n",
    "import math\n",
    "import random"
   ]
  },
  {
   "cell_type": "markdown",
   "metadata": {},
   "source": [
    "# Flip a coin : Reality vs Theory"
   ]
  },
  {
   "cell_type": "markdown",
   "metadata": {},
   "source": [
    "## 1. Four flips\n",
    "\n",
    "Quick reminder : a probability of 0 means an event will never occur. A probability of 1 means it will happen for sure.\n",
    "\n",
    "Let's start smoothly : Suppose we flip a coin 4 times. Can you answer the following questions :\n",
    "- How many possible outcomes could happen?\n",
    "- What's the probability to get 4 heads?\n",
    "- What's the probability to get 2 heads and 2 tails?\n",
    "\n",
    "To answer these \"easy\" questions, you could count the number of ways to get a result. For example, there are 16 possible outcomes and there are 6 ways to get 2 heads and 2 tails :\n",
    "- 1 1 0 0\n",
    "- 1 0 1 0\n",
    "- 1 0 0 1\n",
    "- 0 1 1 0\n",
    "- 0 1 0 1\n",
    "- 0 0 1 1\n",
    "\n",
    "where 1 represents heads and 0 tails. Let's call __A__ the event where we get 2 heads and 2 tails. That means that the probability of A is P(A) = 6/16 = 0.375. But if the number of flips is larger, it becomes more difficult to manually count the different possibilities.\n",
    "\n",
    "Mathematically, the number of ways to get $x$ heads (or tails) in $n$ flips could be calculated as :\n",
    "\n",
    "$\\large possibilities = \\frac{n!}{x! (n - x)!}$\n",
    "\n",
    "where $n!$ means factorial of n : $4! = 4 \\times 3 \\times 2 \\times 1 = 24$\n",
    "\n",
    "and can be accessed with [`math.factorial()`](https://docs.python.org/3/library/math.html)"
   ]
  },
  {
   "cell_type": "markdown",
   "metadata": {},
   "source": [
    "❓ For this exercise, implement the functions below.   \n",
    "When comfortable with your solutions, add them in `flip_coins_factorial.py` and try to pass the tests with `Make`."
   ]
  },
  {
   "cell_type": "code",
   "execution_count": 2,
   "metadata": {},
   "outputs": [],
   "source": [
    "def count_possibilities(n_toss, n_heads):\n",
    "    '''TO DO: return the number of possibilities to get n_heads when flipping the coin n_toss times\n",
    "        Ex: count_possibilities(4, 4)  = 1'''\n",
    "    possibilities = math.factorial(n_toss)/(math.factorial(n_heads) * math.factorial(n_toss - n_heads))\n",
    "    return possibilities\n"
   ]
  },
  {
   "cell_type": "code",
   "execution_count": 3,
   "metadata": {},
   "outputs": [],
   "source": [
    "def count_total_possibilities(n_toss):\n",
    "    '''TO DO: return the total amount of different combinations when flipping the coins n_toss times\n",
    "        Ex: count_total_possibilities(3) = 8'''\n",
    "    return 2 ** n_toss"
   ]
  },
  {
   "cell_type": "code",
   "execution_count": 4,
   "metadata": {},
   "outputs": [],
   "source": [
    "def probability(n_toss):\n",
    "    '''TO DO: return a dictionary. The keys will be the possible number of heads in each game,\n",
    "            so they can't be over `n_toss` or under 0. The values for each of those keys will correspond\n",
    "            to the probability of a game ending with that result.\n",
    "      probability(5) = {0: ..., 1:..., 2:..., 3:..., 4:..., 5:...}'''\n",
    "    count_heads_dict = {}\n",
    "    for n_heads in range(n_toss + 1):\n",
    "        proba = count_possibilities(n_toss, n_heads)\n",
    "        count_heads_dict[n_heads] = proba/count_total_possibilities(n_toss)\n",
    "    return count_heads_dict\n",
    "\n"
   ]
  },
  {
   "cell_type": "markdown",
   "metadata": {},
   "source": [
    "## 2. Theory : What could we expect?"
   ]
  },
  {
   "cell_type": "markdown",
   "metadata": {},
   "source": [
    "We will flip a coin (each flip has an equal chance of coming up as heads or tails). This kind of experiment has no memory, in other words, each flip is **independent**. Even though there is no way to predict what will be the next flip, if we flip a coin a number of times, the laws of probability allow us to predict the probability of obtaining various results. The accuracy will be greater as the number of flips increases."
   ]
  },
  {
   "cell_type": "code",
   "execution_count": 5,
   "metadata": {},
   "outputs": [],
   "source": [
    "# TO DO: import your functions from flip_coin_factorial.py\n",
    "from flip_coin_factorial import count_possibilities, probability"
   ]
  },
  {
   "cell_type": "markdown",
   "metadata": {},
   "source": [
    "Let's see how the probability behaves as we make more and more flips. \n",
    "\n",
    "❓ In a bar chart, plot the output of `probability(n_toss)` with different values for `n_toss`. "
   ]
  },
  {
   "cell_type": "code",
   "execution_count": 6,
   "metadata": {},
   "outputs": [
    {
     "data": {
      "text/plain": [
       "(-1.0, 101.0)"
      ]
     },
     "execution_count": 6,
     "metadata": {},
     "output_type": "execute_result"
    },
    {
     "data": {
      "image/png": "[encoded data removed]",
      "text/plain": [
       "<Figure size 432x288 with 1 Axes>"
      ]
     },
     "metadata": {
      "needs_background": "light"
     },
     "output_type": "display_data"
    }
   ],
   "source": [
    "# INSERT YOUR CODE HERE to plot the bar chart\n",
    "n_toss = 100\n",
    "for (key, value) in probability(n_toss).items():\n",
    "    plt.bar(key, value, color='b')\n",
    "plt.xlim((0-1, n_toss+1))\n"
   ]
  },
  {
   "cell_type": "markdown",
   "metadata": {},
   "source": [
    "If your implementation is correct, the more flips you do (n_toss increases), the smoother the graph becomes as it approaches the “bell curve”, or **normal distribution**. Try For example `n_toss = 100`"
   ]
  },
  {
   "cell_type": "markdown",
   "metadata": {},
   "source": [
    "## 3. In practice, do we get the same results?"
   ]
  },
  {
   "cell_type": "markdown",
   "metadata": {},
   "source": [
    "You've already made big strides. But at this point, we could ask ourselves: does the real world behave this way? Again, let's use the power of Python to answer this question."
   ]
  },
  {
   "cell_type": "markdown",
   "metadata": {},
   "source": [
    "❓ For this exercise, implement the two functions below.  \n",
    "When comfortable with your results, copy them inside `simulate_reality.py` and test them with `make`"
   ]
  },
  {
   "cell_type": "markdown",
   "metadata": {},
   "source": [
    "### 3.1 `play_one_game(n_toss)`\n",
    "\n",
    "One game consists of flipping a coin `n_toss` times. This function should return the number of heads you get. \n",
    "\n",
    "One way to do that is by randomly choosing an integer between 0 (tails) and 1 (heads). If you get 1, you increment your `heads_counter` otherwise it stays the same. Your function should return the `heads_counter`. \n",
    "\n",
    "```python\n",
    "import random\n",
    "random.randint(0, 1) # use this to pass the make tests\n",
    "```"
   ]
  },
  {
   "cell_type": "code",
   "execution_count": 7,
   "metadata": {},
   "outputs": [],
   "source": [
    "def play_one_game(n_toss):\n",
    "    '''TO DO: return the number of heads after n_toss'''\n",
    "    count_heads = 0\n",
    "    for i in range(n_toss):\n",
    "        coin = random.randint(0, 1)\n",
    "        if coin == 1:\n",
    "            count_heads += 1\n",
    "    return count_heads"
   ]
  },
  {
   "cell_type": "markdown",
   "metadata": {},
   "source": [
    "### 3.2 `play_n_game(n_games, n_toss)`\n",
    "\n",
    "Imagine you repeat the previous game `n_games` times.\n",
    "\n",
    "The goal here is to play a bunch of flip coin games and see the distribution of the values we get from flipping a coin `n_toss` times.\n",
    "\n",
    "This new function will call your previously defined `play_one_game` function `n_games` times. Then, we want to keep track of the end result of each game played this way.\n",
    "\n",
    "`play_n_game` should return a dictionary. The keys will be the possible `head_counter` of each game, and the values will correspond to the ratio of games ending with that number of heads.\n",
    "\n",
    "EX : Imagine you play 10 coin flip games (n_games = 10) where in each game you flip the coin 6 times (n_toss = 6) and you get  \n",
    "- 0 games showing 0 heads  \n",
    "- 1 game showing 1 head  \n",
    "- 3 games showing 2 heads  \n",
    "- 3 games showing 3 heads  \n",
    "- 2 games showing 4 heads  \n",
    "- 1 game showing 5 heads  \n",
    "- 0 games showing 6 heads\n",
    "    \n",
    "```python\n",
    "=> result = {0:0/n_games, \n",
    "             1:1/n_games,\n",
    "             2:3/n_games,\n",
    "             3:3/n_games,\n",
    "             4:2/n_games,\n",
    "             5:1/n_games,\n",
    "             6:0/n_games }\n",
    "```"
   ]
  },
  {
   "cell_type": "code",
   "execution_count": 8,
   "metadata": {},
   "outputs": [],
   "source": [
    "def play_n_game(n_games, n_toss):\n",
    "    \"\"\"TO DO: return a dictionary.\n",
    "    The keys will be the possible head_counter of each game\n",
    "    The values will correspond to the probability of a game ending with that number of heads.\n",
    "    \"\"\"\n",
    "    count_dict = {k: 0 for k in range(n_toss+1)}\n",
    "    for _ in range(n_games):\n",
    "        n_heads = play_one_game(n_toss)\n",
    "        count_dict[n_heads] += 1\n",
    "    result = {k: v/n_games for k, v in count_dict.items()}\n",
    "    return result"
   ]
  },
  {
   "cell_type": "markdown",
   "metadata": {},
   "source": [
    "### 3.3 Visualize practice results"
   ]
  },
  {
   "cell_type": "markdown",
   "metadata": {},
   "source": [
    "❓ Import your validated functions from `simulate_reality.py` and plot the result as bar chart.\n",
    "\n",
    "Just as before, try different values for `n_toss` and `n_games`. What do you observe?\n",
    "\n",
    "Compare these two graphs (with the same value for n_toss). What do you observe?"
   ]
  },
  {
   "cell_type": "code",
   "execution_count": 9,
   "metadata": {},
   "outputs": [
    {
     "data": {
      "text/plain": [
       "(-1.0, 101.0)"
      ]
     },
     "execution_count": 9,
     "metadata": {},
     "output_type": "execute_result"
    },
    {
     "data": {
      "image/png": "[encoded data removed]",
      "text/plain": [
       "<Figure size 432x288 with 1 Axes>"
      ]
     },
     "metadata": {
      "needs_background": "light"
     },
     "output_type": "display_data"
    }
   ],
   "source": [
    "from simulate_reality import play_one_game, play_n_game\n",
    "\n",
    "n_games = 20000\n",
    "n_toss = 100\n",
    "for (key, value) in play_n_game(n_games, n_toss).items():\n",
    "    plt.bar(key, value, color='b')\n",
    "plt.xlim((0-1, n_toss+1))\n"
   ]
  },
  {
   "cell_type": "markdown",
   "metadata": {},
   "source": [
    "## 4. Compare results with Mean Squared Error (MSE)\n",
    "\n",
    "If you have a look at the 2 graphs (theory vs reality), you should notice that they both look like a normal distribution. But as usual, we need a proof, we need a number to confirm this intuition.\n",
    "\n",
    "❓ Implement the function `mean_squared_error(n_games, n_toss)` below and test it in the `comparison.py` file. \n",
    "This function should simply return the squared error between the theoretical and \"actual\" results (obtained through simulation). \n",
    "Copy your code in `comparison.py` and check your result with `make`"
   ]
  },
  {
   "cell_type": "code",
   "execution_count": 10,
   "metadata": {},
   "outputs": [],
   "source": [
    "from flip_coin_factorial import probability\n",
    "from simulate_reality import play_n_game\n",
    "def mean_squared_error(n_games, n_toss):\n",
    "    '''TO DO: return the squared error between the theoretical and \"actual\" results (obtained through simulation)'''\n",
    "    theoretical_results = probability(n_toss)\n",
    "    actual_results = play_n_game(n_games, n_toss)\n",
    "    squared_error = 0\n",
    "    for k, v in theoretical_results.items():\n",
    "         actual_result = actual_results[k]\n",
    "         squared_error += (actual_result - theoretical_results[k])**2\n",
    "    mse = squared_error/len(theoretical_results)\n",
    "    return mse"
   ]
  },
  {
   "cell_type": "code",
   "execution_count": 11,
   "metadata": {},
   "outputs": [
    {
     "name": "stdout",
     "output_type": "stream",
     "text": [
      "RMSE: 7.63 %\n"
     ]
    }
   ],
   "source": [
    "# RMSE is easier to understand as it is of same unit that our coin value\n",
    "print('RMSE:', '{:.2f}'.format(mean_squared_error(10,10)**0.5*100), '%')"
   ]
  },
  {
   "cell_type": "code",
   "execution_count": null,
   "metadata": {},
   "outputs": [],
   "source": []
  }
 ],
 "metadata": {
  "kernelspec": {
   "display_name": "Python 3 (ipykernel)",
   "language": "python",
   "name": "python3"
  },
  "language_info": {
   "codemirror_mode": {
    "name": "ipython",
    "version": 3
   },
   "file_extension": ".py",
   "mimetype": "text/x-python",
   "name": "python",
   "nbconvert_exporter": "python",
   "pygments_lexer": "ipython3",
   "version": "3.8.12"
  },
  "toc": {
   "base_numbering": 1,
   "nav_menu": {},
   "number_sections": false,
   "sideBar": true,
   "skip_h1_title": false,
   "title_cell": "Table of Contents",
   "title_sidebar": "Contents",
   "toc_cell": false,
   "toc_position": {},
   "toc_section_display": true,
   "toc_window_display": true
  },
  "varInspector": {
   "cols": {
    "lenName": 16,
    "lenType": 16,
    "lenVar": 40
   },
   "kernels_config": {
    "python": {
     "delete_cmd_postfix": "",
     "delete_cmd_prefix": "del ",
     "library": "var_list.py",
     "varRefreshCmd": "print(var_dic_list())"
    },
    "r": {
     "delete_cmd_postfix": ") ",
     "delete_cmd_prefix": "rm(",
     "library": "var_list.r",
     "varRefreshCmd": "cat(var_dic_list()) "
    }
   },
   "types_to_exclude": [
    "module",
    "function",
    "builtin_function_or_method",
    "instance",
    "_Feature"
   ],
   "window_display": false
  }
 },
 "nbformat": 4,
 "nbformat_minor": 4
}
