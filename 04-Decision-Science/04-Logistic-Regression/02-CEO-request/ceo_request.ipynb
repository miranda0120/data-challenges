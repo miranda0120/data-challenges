{
 "cells": [
  {
   "cell_type": "markdown",
   "metadata": {},
   "source": [
    "# CEO-Request Challenge"
   ]
  },
  {
   "cell_type": "markdown",
   "metadata": {},
   "source": [
    "\n",
    "🕵🏻 **Should Olist remove underperforming sellers from its marketplace ?**"
   ]
  },
  {
   "cell_type": "markdown",
   "metadata": {},
   "source": [
    "## Problem statement"
   ]
  },
  {
   "cell_type": "markdown",
   "metadata": {},
   "source": [
    "🕵🏻 To analyse the impact of removing the worse sellers from Olist's marketplace, we can start with a what-if analysis: What would have happened if Olist had never accepted these sellers in the first place? For that:\n",
    "\n",
    "1️⃣ Compute, for each `seller_id`, and cumulated since the beginning:\n",
    "- the `revenues` it brings\n",
    "- the `costs` associated with all its bad reviews\n",
    "- the resulting `profits` (revenues - costs)\n",
    "- the number of `orders` (it will impact the overall IT costs)\n",
    "\n",
    "\n",
    "2️⃣ We can then:\n",
    "- sort sellers by increasing profits for Olist\n",
    "- for each number of sellers to remove, compute the financial impact it would have made if they had never been accepted on the platform. \n",
    "- we may find an optimal number of sellers to remove that maximizes Olist's profit margin"
   ]
  },
  {
   "cell_type": "markdown",
   "metadata": {},
   "source": [
    "👉 Write down a detailed strategy (step by step) to create the DataFrame you need for the first step.\n",
    "\n",
    "💡Think about how to re-use or update the logic you've already coded in your 🗂 `olist` package"
   ]
  },
  {
   "cell_type": "markdown",
   "metadata": {},
   "source": [
    "<details>\n",
    "    <summary>- <i>Hints</i> -</summary>\n",
    "\n",
    "\n",
    "Starting from your current `seller().get_training_data()` DataFrame, can you easily transform it to compute:\n",
    "- Olist's positive `revenue_per_seller`? \n",
    "- Olist's `cost_of_bad_reviews`?\n",
    "\n",
    "⚠️ Do no start from scratch ! Investigate your source code in `seller.py` : \n",
    "- how was the mean `review_score` per seller computed? \n",
    "- Can you think about  a way to update your code to incorporate the `cost_of_reviews`? \n",
    "\n",
    "</details>\n"
   ]
  },
  {
   "cell_type": "markdown",
   "metadata": {},
   "source": [
    "## Your turn!"
   ]
  },
  {
   "cell_type": "markdown",
   "metadata": {},
   "source": [
    "🧺 Keep this notebook tidy! \n",
    "\n",
    "📅 🗣 📊 You will present your insights to Olist's CEO next time, after the `Communicate your Data Analysis insights` day!"
   ]
  },
  {
   "cell_type": "markdown",
   "metadata": {},
   "source": [
    "## Analyse data"
   ]
  },
  {
   "cell_type": "markdown",
   "metadata": {
    "slideshow": {
     "slide_type": "-"
    }
   },
   "source": [
    "### Import data"
   ]
  },
  {
   "cell_type": "code",
   "execution_count": 9,
   "metadata": {},
   "outputs": [
    {
     "name": "stdout",
     "output_type": "stream",
     "text": [
      "The autoreload extension is already loaded. To reload it, use:\n",
      "  %reload_ext autoreload\n"
     ]
    }
   ],
   "source": [
    "import pandas as pd\n",
    "import seaborn as sns\n",
    "import statsmodels.api as sm\n",
    "import statsmodels.formula.api as smf\n",
    "import matplotlib.pyplot as plt\n",
    "from statsmodels.stats.outliers_influence import variance_inflation_factor as vif\n",
    "import datetime\n",
    "import numpy as np\n",
    "\n",
    "%load_ext autoreload\n",
    "%autoreload 2"
   ]
  },
  {
   "cell_type": "code",
   "execution_count": 10,
   "metadata": {},
   "outputs": [
    {
     "data": {
      "text/html": [
       "<div>\n",
       "<style scoped>\n",
       "    .dataframe tbody tr th:only-of-type {\n",
       "        vertical-align: middle;\n",
       "    }\n",
       "\n",
       "    .dataframe tbody tr th {\n",
       "        vertical-align: top;\n",
       "    }\n",
       "\n",
       "    .dataframe thead th {\n",
       "        text-align: right;\n",
       "    }\n",
       "</style>\n",
       "<table border=\"1\" class=\"dataframe\">\n",
       "  <thead>\n",
       "    <tr style=\"text-align: right;\">\n",
       "      <th></th>\n",
       "      <th>seller_id</th>\n",
       "      <th>n_orders</th>\n",
       "      <th>profits</th>\n",
       "    </tr>\n",
       "  </thead>\n",
       "  <tbody>\n",
       "    <tr>\n",
       "      <th>0</th>\n",
       "      <td>3442f8959a84dea7ee197c632cb2df15</td>\n",
       "      <td>3</td>\n",
       "      <td>201.870</td>\n",
       "    </tr>\n",
       "    <tr>\n",
       "      <th>1</th>\n",
       "      <td>d1b65fc7debc3361ea86b5f14c68d2e2</td>\n",
       "      <td>40</td>\n",
       "      <td>2050.307</td>\n",
       "    </tr>\n",
       "    <tr>\n",
       "      <th>2</th>\n",
       "      <td>ce3ad9de960102d0677a81f5d0bb7b2d</td>\n",
       "      <td>1</td>\n",
       "      <td>15.800</td>\n",
       "    </tr>\n",
       "    <tr>\n",
       "      <th>3</th>\n",
       "      <td>c0f3eea2e14555b6faeea3dd58c1b1c3</td>\n",
       "      <td>1</td>\n",
       "      <td>7.999</td>\n",
       "    </tr>\n",
       "    <tr>\n",
       "      <th>4</th>\n",
       "      <td>51a04a8a6bdcb23deccc82b0b80742cf</td>\n",
       "      <td>1</td>\n",
       "      <td>-83.201</td>\n",
       "    </tr>\n",
       "  </tbody>\n",
       "</table>\n",
       "</div>"
      ],
      "text/plain": [
       "                          seller_id  n_orders   profits\n",
       "0  3442f8959a84dea7ee197c632cb2df15         3   201.870\n",
       "1  d1b65fc7debc3361ea86b5f14c68d2e2        40  2050.307\n",
       "2  ce3ad9de960102d0677a81f5d0bb7b2d         1    15.800\n",
       "3  c0f3eea2e14555b6faeea3dd58c1b1c3         1     7.999\n",
       "4  51a04a8a6bdcb23deccc82b0b80742cf         1   -83.201"
      ]
     },
     "execution_count": 10,
     "metadata": {},
     "output_type": "execute_result"
    }
   ],
   "source": [
    "# seller.py has been updated to seller_updated.py to automatically compute what we need for step (1)\n",
    "from olist.seller_updated import Seller\n",
    "\n",
    "# Import seller data\n",
    "seller = Seller()\n",
    "\n",
    "# \"get_training_data\" is a method applied to the dataframe that computes the profits per seller\n",
    "sellers = seller.get_training_data()\n",
    "\n",
    "# Keep only columns of interest\n",
    "sellers = sellers[['seller_id','n_orders','profits']]\n",
    "\n",
    "sellers.head()"
   ]
  },
  {
   "cell_type": "markdown",
   "metadata": {},
   "source": [
    "### Calculate cost constant A"
   ]
  },
  {
   "cell_type": "code",
   "execution_count": 11,
   "metadata": {},
   "outputs": [
    {
     "data": {
      "text/plain": [
       "1582.3973364219244"
      ]
     },
     "execution_count": 11,
     "metadata": {},
     "output_type": "execute_result"
    }
   ],
   "source": [
    "# it_costs = A * (sellers['n_orders'].sum()**0.5)\n",
    "it_costs = 500000\n",
    "\n",
    "num_orders = sellers['n_orders'].sum()\n",
    "\n",
    "A = it_costs / (num_orders**0.5)\n",
    "\n",
    "A"
   ]
  },
  {
   "cell_type": "markdown",
   "metadata": {},
   "source": [
    "### Calculate IT total benefits"
   ]
  },
  {
   "cell_type": "code",
   "execution_count": 12,
   "metadata": {},
   "outputs": [
    {
     "data": {
      "text/plain": [
       "667608.4440000001"
      ]
     },
     "execution_count": 12,
     "metadata": {},
     "output_type": "execute_result"
    }
   ],
   "source": [
    "it_costs = A * (sellers['n_orders'].sum()**0.5)\n",
    "\n",
    "benefit = sellers.profits.sum() - it_costs \n",
    "\n",
    "benefit"
   ]
  },
  {
   "cell_type": "markdown",
   "metadata": {},
   "source": [
    "### Iteratively removing sellers"
   ]
  },
  {
   "cell_type": "code",
   "execution_count": 13,
   "metadata": {},
   "outputs": [
    {
     "data": {
      "text/html": [
       "<div>\n",
       "<style scoped>\n",
       "    .dataframe tbody tr th:only-of-type {\n",
       "        vertical-align: middle;\n",
       "    }\n",
       "\n",
       "    .dataframe tbody tr th {\n",
       "        vertical-align: top;\n",
       "    }\n",
       "\n",
       "    .dataframe thead th {\n",
       "        text-align: right;\n",
       "    }\n",
       "</style>\n",
       "<table border=\"1\" class=\"dataframe\">\n",
       "  <thead>\n",
       "    <tr style=\"text-align: right;\">\n",
       "      <th></th>\n",
       "      <th>seller_id</th>\n",
       "      <th>n_orders</th>\n",
       "      <th>profits</th>\n",
       "    </tr>\n",
       "  </thead>\n",
       "  <tbody>\n",
       "    <tr>\n",
       "      <th>769</th>\n",
       "      <td>6560211a19b47992c3666cc44a7e94c0</td>\n",
       "      <td>1854</td>\n",
       "      <td>-21519.517</td>\n",
       "    </tr>\n",
       "    <tr>\n",
       "      <th>2358</th>\n",
       "      <td>4a3ca9315b744ce9f8e9374361493884</td>\n",
       "      <td>1806</td>\n",
       "      <td>-17752.708</td>\n",
       "    </tr>\n",
       "    <tr>\n",
       "      <th>1357</th>\n",
       "      <td>cc419e0650a3c5ba77189a1882b7556a</td>\n",
       "      <td>1706</td>\n",
       "      <td>-17581.158</td>\n",
       "    </tr>\n",
       "    <tr>\n",
       "      <th>945</th>\n",
       "      <td>ea8482cd71df3c1969d7b9473ff13abc</td>\n",
       "      <td>1146</td>\n",
       "      <td>-15542.248</td>\n",
       "    </tr>\n",
       "    <tr>\n",
       "      <th>315</th>\n",
       "      <td>8b321bb669392f5163d04c59e235e066</td>\n",
       "      <td>943</td>\n",
       "      <td>-12886.431</td>\n",
       "    </tr>\n",
       "  </tbody>\n",
       "</table>\n",
       "</div>"
      ],
      "text/plain": [
       "                             seller_id  n_orders    profits\n",
       "769   6560211a19b47992c3666cc44a7e94c0      1854 -21519.517\n",
       "2358  4a3ca9315b744ce9f8e9374361493884      1806 -17752.708\n",
       "1357  cc419e0650a3c5ba77189a1882b7556a      1706 -17581.158\n",
       "945   ea8482cd71df3c1969d7b9473ff13abc      1146 -15542.248\n",
       "315   8b321bb669392f5163d04c59e235e066       943 -12886.431"
      ]
     },
     "execution_count": 13,
     "metadata": {},
     "output_type": "execute_result"
    }
   ],
   "source": [
    "# Arrange from worst to best seller\n",
    "sellers.sort_values(by='profits',inplace = True)\n",
    "sellers.head()"
   ]
  },
  {
   "cell_type": "code",
   "execution_count": 14,
   "metadata": {},
   "outputs": [],
   "source": [
    "# Iteratively removing worst sellers by slicing dataframe\n",
    "sellers_removed = []\n",
    "total_benefits = []\n",
    "\n",
    "for i in range(len(sellers)):\n",
    "    \n",
    "    # Recalculate benefits\n",
    "    benefits = sellers[i:].profits.sum() - A * (sellers[i:]['n_orders'].sum()**0.5)\n",
    "    \n",
    "    # Append recalculated profits and # of sellers removed to respective lists\n",
    "    total_benefits.append(benefits)\n",
    "    sellers_removed.append(i)"
   ]
  },
  {
   "cell_type": "code",
   "execution_count": 15,
   "metadata": {
    "scrolled": true
   },
   "outputs": [
    {
     "data": {
      "text/plain": [
       "Text(0, 0.5, 'total benefits')"
      ]
     },
     "execution_count": 15,
     "metadata": {},
     "output_type": "execute_result"
    },
    {
     "data": {
      "image/png": "[encoded data removed]",
      "text/plain": [
       "<Figure size 432x288 with 1 Axes>"
      ]
     },
     "metadata": {
      "needs_background": "light"
     },
     "output_type": "display_data"
    }
   ],
   "source": [
    "# Plot the bad boy\n",
    "plt.plot(sellers_removed,total_benefits)\n",
    "plt.xlabel('sellers removed')\n",
    "plt.ylabel('total benefits')"
   ]
  },
  {
   "cell_type": "code",
   "execution_count": null,
   "metadata": {},
   "outputs": [],
   "source": [
    "### best_sellers = seller_df.copy().sort_values(by='profits',ascending=True).reset_index(drop=True)\n",
    "# total_profit = []\n",
    "# total_profit.append(best_sellers['profits'].sum())\n",
    "# for n in range(len(best_sellers)):\n",
    "#     best_sellers.drop(n,inplace=True)\n",
    "#     total_profit.append(best_sellers['profits'].sum())"
   ]
  }
 ],
 "metadata": {
  "kernelspec": {
   "display_name": "Python 3 (ipykernel)",
   "language": "python",
   "name": "python3"
  },
  "language_info": {
   "codemirror_mode": {
    "name": "ipython",
    "version": 3
   },
   "file_extension": ".py",
   "mimetype": "text/x-python",
   "name": "python",
   "nbconvert_exporter": "python",
   "pygments_lexer": "ipython3",
   "version": "3.8.12"
  },
  "toc": {
   "base_numbering": 1,
   "nav_menu": {},
   "number_sections": true,
   "sideBar": true,
   "skip_h1_title": true,
   "title_cell": "Table of Contents",
   "title_sidebar": "Contents",
   "toc_cell": false,
   "toc_position": {},
   "toc_section_display": true,
   "toc_window_display": true
  },
  "varInspector": {
   "cols": {
    "lenName": 16,
    "lenType": 16,
    "lenVar": 40
   },
   "kernels_config": {
    "python": {
     "delete_cmd_postfix": "",
     "delete_cmd_prefix": "del ",
     "library": "var_list.py",
     "varRefreshCmd": "print(var_dic_list())"
    },
    "r": {
     "delete_cmd_postfix": ") ",
     "delete_cmd_prefix": "rm(",
     "library": "var_list.r",
     "varRefreshCmd": "cat(var_dic_list()) "
    }
   },
   "types_to_exclude": [
    "module",
    "function",
    "builtin_function_or_method",
    "instance",
    "_Feature"
   ],
   "window_display": false
  }
 },
 "nbformat": 4,
 "nbformat_minor": 4
}
